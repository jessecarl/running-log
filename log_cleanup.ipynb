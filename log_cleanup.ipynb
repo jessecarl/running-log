{
 "cells": [
  {
   "cell_type": "code",
   "execution_count": 24,
   "id": "a3e61d47-7b6b-436e-a4de-e9a13abc9fb5",
   "metadata": {
    "tags": []
   },
   "outputs": [],
   "source": [
    "import pandas as pd\n",
    "\n",
    "df = pd.read_csv('running_log.csv')\n",
    "\n",
    "df_input_cols = pd.DataFrame(df, columns=[\"Date\",\"Distance (mi)\",\"Run Type\",\"Treadmill?\",\"Weight (lbs)\",\"Moving Time\",\"Strava Pace\",\"AVG HR\",\"Resting HR\"])\n",
    "df_input_cols[~df_input_cols['Run Type'].isna()].to_csv('running_log.csv', index=False)"
   ]
  }
 ],
 "metadata": {
  "kernelspec": {
   "display_name": "firstEnv",
   "language": "python",
   "name": "firstenv"
  },
  "language_info": {
   "codemirror_mode": {
    "name": "ipython",
    "version": 3
   },
   "file_extension": ".py",
   "mimetype": "text/x-python",
   "name": "python",
   "nbconvert_exporter": "python",
   "pygments_lexer": "ipython3",
   "version": "3.11.4"
  }
 },
 "nbformat": 4,
 "nbformat_minor": 5
}
